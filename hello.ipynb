{
 "cells": [
  {
   "cell_type": "markdown",
   "id": "84e9a98e-22e4-4b99-9ff1-c01ae6b761f1",
   "metadata": {
    "tags": []
   },
   "source": [
    "## Hello"
   ]
  },
  {
   "cell_type": "code",
   "execution_count": null,
   "id": "6d9631ad-b164-480c-bf26-a91b4c40a704",
   "metadata": {},
   "outputs": [],
   "source": []
  }
 ],
 "metadata": {
  "kernelspec": {
   "display_name": "Python 3 (ipykernel)",
   "language": "python",
   "name": "python3"
  },
  "language_info": {
   "codemirror_mode": {
    "name": "ipython",
    "version": 3
   },
   "file_extension": ".py",
   "mimetype": "text/x-python",
   "name": "python",
   "nbconvert_exporter": "python",
   "pygments_lexer": "ipython3",
   "version": "3.11.2"
  }
 },
 "nbformat": 4,
 "nbformat_minor": 5
}
