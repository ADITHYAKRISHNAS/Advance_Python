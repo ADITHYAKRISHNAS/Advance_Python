{
 "cells": [
  {
   "cell_type": "markdown",
   "id": "9d4695a3-e357-4c98-b222-a92654d5eb68",
   "metadata": {},
   "source": [
    "# Python Logging"
   ]
  },
  {
   "cell_type": "markdown",
   "id": "4a07ac9e-fec0-4f61-a93f-6817781fcb3e",
   "metadata": {},
   "source": [
    "In Python, logging is a built - in module that provides a flexible and powerful framework for generating log messages from your code. If allows you to record events, warnnings, errors, and other information during the execution of a program."
   ]
  },
  {
   "cell_type": "code",
   "execution_count": 5,
   "id": "140151d4-1fee-4699-9505-6a686c5d3233",
   "metadata": {
    "tags": []
   },
   "outputs": [
    {
     "name": "stdout",
     "output_type": "stream",
     "text": [
      "Add: 10 + 5 = 15\n",
      "Subtract: 10 + 5 = 5\n",
      "Mul: 10 + 5 = 50\n",
      "div: 10 + 5 = 2.0\n"
     ]
    }
   ],
   "source": [
    "def add(x, y):\n",
    "    \"\"\"Adding funtion\"\"\"\n",
    "    return x + y\n",
    "\n",
    "def subtract(x, y):\n",
    "    \"\"\"Subtract Funtion\"\"\"\n",
    "    return x - y\n",
    "\n",
    "def mutiply(x, y):\n",
    "    \"\"\"Multiply funtion\"\"\"\n",
    "    return x * y\n",
    "\n",
    "def divide(x, y):\n",
    "    \"\"\"Divide funtion\"\"\"\n",
    "    return x / y\n",
    "\n",
    "num_1 = 10\n",
    "num_2 = 5\n",
    "\n",
    "add_result = add(num_1, num_2)\n",
    "\n",
    "print('Add: {} + {} = {}'.format(num_1, num_2, add_result))\n",
    "\n",
    "sub_result = subtract(num_1, num_2)\n",
    "\n",
    "print('Subtract: {} + {} = {}'.format(num_1, num_2, sub_result))\n",
    "\n",
    "mul_result = mutiply(num_1, num_2)\n",
    "\n",
    "print('Mul: {} + {} = {}'.format(num_1, num_2, mul_result))\n",
    "\n",
    "div_result = divide(num_1, num_2)\n",
    "\n",
    "print('div: {} + {} = {}'.format(num_1, num_2, div_result))\n",
    "\n"
   ]
  },
  {
   "cell_type": "markdown",
   "id": "b8fff1ea-333a-4ea7-8236-8a91695232a2",
   "metadata": {},
   "source": [
    "# Logging levels"
   ]
  },
  {
   "cell_type": "markdown",
   "id": "c492e262-73de-4179-8413-56cfdb34504a",
   "metadata": {},
   "source": [
    "logging level allow us to specify exactly what we want to log by seperating there into categories."
   ]
  },
  {
   "cell_type": "markdown",
   "id": "5eadb6fb-3ad0-409c-9dd4-d1ec1beadff5",
   "metadata": {},
   "source": [
    "## 5 types of logging levels"
   ]
  },
  {
   "cell_type": "markdown",
   "id": "17e04402-8f36-4073-93ec-31d868300420",
   "metadata": {
    "tags": []
   },
   "source": [
    "- DEBUG: Detailed information, typically of interenst only when diagnosing problems.\n",
    "\n",
    "- INFO: Conformation that things are working as expected.\n",
    "\n",
    "- WARNING: An indication that something unexpected happened, or indicative of some problem in the near future. The softwre is still working as expected.\n",
    "\n",
    "- ERROR: Due to a more serious problem, the software has not been able to perform some funtion.\n",
    "\n",
    "- CRITICAL: A serious error, indicating that the program itself may be unable to continue running.\n",
    "\n",
    "\n"
   ]
  },
  {
   "cell_type": "code",
   "execution_count": null,
   "id": "2f24f7f3-31ff-4f75-9b80-839c8a614d6c",
   "metadata": {},
   "outputs": [],
   "source": [
    "import logging\n",
    "\n",
    "\n",
    "def add(x, y):\n",
    "    \"\"\"Adding funtion\"\"\"\n",
    "    return x + y\n",
    "\n",
    "def subtract(x, y):\n",
    "    \"\"\"Subtract Funtion\"\"\"\n",
    "    return x - y\n",
    "\n",
    "def mutiply(x, y):\n",
    "    \"\"\"Multiply funtion\"\"\"\n",
    "    return x * y\n",
    "\n",
    "def divide(x, y):\n",
    "    \"\"\"Divide funtion\"\"\"\n",
    "    return x / y\n",
    "\n",
    "num_1 = 10\n",
    "num_2 = 5\n",
    "\n",
    "add_result = add(num_1, num_2)\n",
    "\n",
    "logging.debug('Add: {} + {} = {}'.format(num_1, num_2, add_result))\n",
    "\n",
    "sub_result = subtract(num_1, num_2)\n",
    "\n",
    "logging.debug('Subtract: {} + {} = {}'.format(num_1, num_2, sub_result))\n",
    "\n",
    "mul_result = mutiply(num_1, num_2)\n",
    "\n",
    "logging.debug('Mul: {} + {} = {}'.format(num_1, num_2, mul_result))\n",
    "\n",
    "div_result = divide(num_1, num_2)\n",
    "\n",
    "logging.debug('div: {} + {} = {}'.format(num_1, num_2, div_result))\n"
   ]
  }
 ],
 "metadata": {
  "kernelspec": {
   "display_name": "Python 3 (ipykernel)",
   "language": "python",
   "name": "python3"
  },
  "language_info": {
   "codemirror_mode": {
    "name": "ipython",
    "version": 3
   },
   "file_extension": ".py",
   "mimetype": "text/x-python",
   "name": "python",
   "nbconvert_exporter": "python",
   "pygments_lexer": "ipython3",
   "version": "3.11.2"
  }
 },
 "nbformat": 4,
 "nbformat_minor": 5
}
