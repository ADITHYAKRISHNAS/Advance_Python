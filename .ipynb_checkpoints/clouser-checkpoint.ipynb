{
 "cells": [
  {
   "cell_type": "markdown",
   "metadata": {},
   "source": [
    "# Clouser"
   ]
  },
  {
   "cell_type": "markdown",
   "metadata": {},
   "source": [
    "funtion object that remembers vwlues in the enclosing scope even if they are not present in memeory."
   ]
  },
  {
   "cell_type": "code",
   "execution_count": 1,
   "metadata": {
    "tags": []
   },
   "outputs": [
    {
     "name": "stdout",
     "output_type": "stream",
     "text": [
      "hello\n"
     ]
    }
   ],
   "source": [
    "def outer():\n",
    "    msg = \"hello\"\n",
    "    def inner():\n",
    "        print(msg)\n",
    "    return inner\n",
    "a = outer()\n",
    "a()"
   ]
  },
  {
   "cell_type": "markdown",
   "metadata": {},
   "source": [
    "The closure's environment hold reference to the variable it needs, adn those variables remanin in memeory as variables remanin in memory as long as the closure exisis. This allow the closure to access and use those variable even if the outer funtion that defines them has finished exeuting and its local variables have gone out of scope."
   ]
  },
  {
   "cell_type": "code",
   "execution_count": null,
   "metadata": {},
   "outputs": [],
   "source": []
  }
 ],
 "metadata": {
  "kernelspec": {
   "display_name": "Python 3 (ipykernel)",
   "language": "python",
   "name": "python3"
  },
  "language_info": {
   "codemirror_mode": {
    "name": "ipython",
    "version": 3
   },
   "file_extension": ".py",
   "mimetype": "text/x-python",
   "name": "python",
   "nbconvert_exporter": "python",
   "pygments_lexer": "ipython3",
   "version": "3.11.2"
  }
 },
 "nbformat": 4,
 "nbformat_minor": 4
}
