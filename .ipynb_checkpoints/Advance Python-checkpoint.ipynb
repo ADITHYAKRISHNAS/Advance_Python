{
 "cells": [
  {
   "cell_type": "markdown",
   "id": "916fa486-1361-4b2a-832f-0bb8f7eb9ec1",
   "metadata": {},
   "source": [
    "# Advance Python"
   ]
  },
  {
   "cell_type": "markdown",
   "id": "d99e763d-2cb2-4c6b-9932-9d5059ee60a9",
   "metadata": {},
   "source": [
    "## 1. First Class Funtion\n"
   ]
  },
  {
   "cell_type": "markdown",
   "id": "638deebe-5761-4fc6-8d1c-17251983aba6",
   "metadata": {},
   "source": [
    "In Python, a first-class function refers to the ability of functions to be treated as first-class citizens.\n",
    "Properties of fist class funtion:\n",
    "- A funtion is an istatnce of the object type.\n",
    "- You can store the funtion in a variable.\n",
    "- You can pass the funtion as a parameter to another funtion.\n",
    "- You can return the funtion from a funtion.\n",
    "- You can store them in data structres such as hash table, list.."
   ]
  },
  {
   "cell_type": "code",
   "execution_count": 1,
   "id": "144f9078-4dc3-439b-89b1-20175f260085",
   "metadata": {
    "tags": []
   },
   "outputs": [
    {
     "name": "stdout",
     "output_type": "stream",
     "text": [
      "Hello, world!\n",
      "Hello, world!\n",
      "Hello, world!\n"
     ]
    }
   ],
   "source": [
    "def greet():\n",
    "    print(\"Hello, world!\")\n",
    "    \n",
    "# Assigning a funtion to a variable\n",
    "my_funtion = greet\n",
    "# Calling the funtion through the variable\n",
    "my_funtion()\n",
    "\n",
    "# Passing a funtion as an argument to another funtion.\n",
    "def run_funtion(func):\n",
    "    func()\n",
    "run_funtion(greet)\n",
    "\n",
    "# Returning a funtion from another funtion\n",
    "def get_funtion():\n",
    "    return greet\n",
    "returned_funtion = get_funtion()\n",
    "returned_funtion()"
   ]
  },
  {
   "cell_type": "markdown",
   "id": "5c064817-04e8-40ca-a947-a1525ee80b99",
   "metadata": {},
   "source": [
    "### 1. Assigning Funtions to Variables"
   ]
  },
  {
   "cell_type": "code",
   "execution_count": 2,
   "id": "920adba6-ba41-4884-9113-ad0a47743430",
   "metadata": {
    "tags": []
   },
   "outputs": [
    {
     "name": "stdout",
     "output_type": "stream",
     "text": [
      "7\n"
     ]
    }
   ],
   "source": [
    "def add(a, b):\n",
    "    return a+b\n",
    "\n",
    "# Assinging the funtion to a variable\n",
    "my_funtion = add\n",
    "# Calling the funtion through the variable\n",
    "result = my_funtion(3, 4)\n",
    "print(result)"
   ]
  },
  {
   "cell_type": "markdown",
   "id": "1e9f88df-8bb9-4809-9836-daf77b465d2d",
   "metadata": {},
   "source": [
    "### 2. Passing Funtion as Arguments"
   ]
  },
  {
   "cell_type": "code",
   "execution_count": 4,
   "id": "d30500a3-5130-41df-aa84-1e3315477148",
   "metadata": {
    "tags": []
   },
   "outputs": [
    {
     "name": "stdout",
     "output_type": "stream",
     "text": [
      "12\n"
     ]
    }
   ],
   "source": [
    "def multiply(a, b):\n",
    "    return a * b\n",
    "def apply_operation(operation, x, y):\n",
    "    return operation(x, y)\n",
    "result = apply_operation(multiply, 3, 4)\n",
    "print(result)"
   ]
  },
  {
   "cell_type": "markdown",
   "id": "ca99fda5-8739-4378-93bb-25aa7fb58f33",
   "metadata": {},
   "source": [
    "### 3. Returning Funtion from Funtion"
   ]
  },
  {
   "cell_type": "code",
   "execution_count": 5,
   "id": "d0e23ade-28e4-4369-b2b4-fe7d70c603f3",
   "metadata": {
    "tags": []
   },
   "outputs": [
    {
     "name": "stdout",
     "output_type": "stream",
     "text": [
      "8\n"
     ]
    }
   ],
   "source": [
    "def create_adder(a):\n",
    "    def adder(b):\n",
    "        return a + b\n",
    "    return adder\n",
    "add_5 = create_adder(5)\n",
    "result = add_5(3)\n",
    "print(result)"
   ]
  },
  {
   "cell_type": "markdown",
   "id": "ad341087-c637-4e2f-927a-3ceec3ea5d80",
   "metadata": {},
   "source": [
    "### 4. Extra\n"
   ]
  },
  {
   "cell_type": "markdown",
   "id": "65ed29d8-8704-423d-93f3-7078b61270c1",
   "metadata": {},
   "source": [
    "#### 1. Assigning funtion as a veriable"
   ]
  },
  {
   "cell_type": "code",
   "execution_count": 9,
   "id": "8732fd06-6e6d-45a7-8605-1c4a5d1411ac",
   "metadata": {
    "tags": []
   },
   "outputs": [
    {
     "name": "stdout",
     "output_type": "stream",
     "text": [
      "hello Digital\n"
     ]
    }
   ],
   "source": [
    "def hello_name(name):\n",
    "    return \"hello \" + name\n",
    "# Assiging funtion as a veriable\n",
    "fun = hello_name\n",
    "print(fun(\"Digital\"))"
   ]
  },
  {
   "cell_type": "markdown",
   "id": "f3235987-0a2b-41ec-9f2c-bea872f8e454",
   "metadata": {},
   "source": [
    "#### 2. Passing funtion as argument"
   ]
  },
  {
   "cell_type": "code",
   "execution_count": 8,
   "id": "1e87efaf-8dc1-4a09-be09-46b335e88bd8",
   "metadata": {
    "tags": []
   },
   "outputs": [
    {
     "name": "stdout",
     "output_type": "stream",
     "text": [
      "HELLO DIGITAL\n",
      "GOOD MORNING ANALOG\n"
     ]
    }
   ],
   "source": [
    "\n",
    "def upper_fun(fun, name): # passing funtion as an argument\n",
    "    result = fun(name) # assigning funtion as veriable\n",
    "    return result.upper()\n",
    "\n",
    "def hello_name(name):\n",
    "    return \"hello \"+ name\n",
    "\n",
    "def good_morning(name):\n",
    "    return \"good morning \" + name\n",
    "\n",
    "print(upper_fun(hello_name, \"Digital\"))\n",
    "print(upper_fun(good_morning, \"Analog\"))\n"
   ]
  },
  {
   "cell_type": "markdown",
   "id": "622f8f59-5cf0-4677-baa9-5d97ad9af0e2",
   "metadata": {},
   "source": [
    "#### 3. Funtion as return value"
   ]
  },
  {
   "cell_type": "code",
   "execution_count": 13,
   "id": "f8a97b2d-11e6-4e33-85d5-6e8c87e17f89",
   "metadata": {
    "tags": []
   },
   "outputs": [
    {
     "name": "stdout",
     "output_type": "stream",
     "text": [
      "HELLO ANALOG TO DIGITAL\n"
     ]
    }
   ],
   "source": [
    "def upper_fun(fun): # higher order funtion\n",
    "    def inner_fun(name): # innerfuntion , warapper , decerator\n",
    "        result = fun(name)\n",
    "        return result.upper()\n",
    "    return inner_fun\n",
    "\n",
    "def hello_name(name):\n",
    "    return \"hello \" + name\n",
    "\n",
    "f = upper_fun(hello_name)\n",
    "print(f(\"Analog to Digital\"))"
   ]
  },
  {
   "cell_type": "code",
   "execution_count": 18,
   "id": "6054da86-585b-40ef-bc20-15e0ee89b8fb",
   "metadata": {
    "tags": []
   },
   "outputs": [
    {
     "name": "stdout",
     "output_type": "stream",
     "text": [
      "HELLO  ANALOG\n",
      "GOOD MORING DIGITAL\n"
     ]
    }
   ],
   "source": [
    "# decerator\n",
    "\n",
    "def upper_fun(fun): \n",
    "    def inner_fun(name): \n",
    "        result = fun(name)\n",
    "        return result.upper()\n",
    "    return inner_fun\n",
    "\n",
    "@upper_fun\n",
    "def hello_name(name):\n",
    "    return \"hello \" + name\n",
    "\n",
    "@upper_fun\n",
    "def good_morning(s):\n",
    "    return  \"good moring\" + s\n",
    "\n",
    "print(hello_name(\" Analog\"))\n",
    "print(good_morning(\" Digital\") )"
   ]
  },
  {
   "cell_type": "code",
   "execution_count": null,
   "id": "71a295cd-b8f9-4c24-a0ee-9e1e4f62fea0",
   "metadata": {},
   "outputs": [],
   "source": []
  }
 ],
 "metadata": {
  "kernelspec": {
   "display_name": "Python 3 (ipykernel)",
   "language": "python",
   "name": "python3"
  },
  "language_info": {
   "codemirror_mode": {
    "name": "ipython",
    "version": 3
   },
   "file_extension": ".py",
   "mimetype": "text/x-python",
   "name": "python",
   "nbconvert_exporter": "python",
   "pygments_lexer": "ipython3",
   "version": "3.11.2"
  }
 },
 "nbformat": 4,
 "nbformat_minor": 5
}
